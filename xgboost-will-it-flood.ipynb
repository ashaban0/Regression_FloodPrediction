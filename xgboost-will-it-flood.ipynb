{
 "cells": [
  {
   "cell_type": "code",
   "execution_count": 1,
   "id": "7c20f179",
   "metadata": {
    "_cell_guid": "b1076dfc-b9ad-4769-8c92-a6c4dae69d19",
    "_uuid": "8f2839f25d086af736a60e9eeb907d3b93b6e0e5",
    "execution": {
     "iopub.execute_input": "2024-05-21T03:10:13.322946Z",
     "iopub.status.busy": "2024-05-21T03:10:13.322555Z",
     "iopub.status.idle": "2024-05-21T03:10:14.138941Z",
     "shell.execute_reply": "2024-05-21T03:10:14.137837Z"
    },
    "papermill": {
     "duration": 0.827082,
     "end_time": "2024-05-21T03:10:14.141236",
     "exception": false,
     "start_time": "2024-05-21T03:10:13.314154",
     "status": "completed"
    },
    "tags": []
   },
   "outputs": [
    {
     "name": "stdout",
     "output_type": "stream",
     "text": [
      "/kaggle/input/playground-series-s4e5/sample_submission.csv\n",
      "/kaggle/input/playground-series-s4e5/train.csv\n",
      "/kaggle/input/playground-series-s4e5/test.csv\n"
     ]
    }
   ],
   "source": [
    "# This Python 3 environment comes with many helpful analytics libraries installed\n",
    "# It is defined by the kaggle/python Docker image: https://github.com/kaggle/docker-python\n",
    "# For example, here's several helpful packages to load\n",
    "\n",
    "import numpy as np # linear algebra\n",
    "import pandas as pd # data processing, CSV file I/O (e.g. pd.read_csv)\n",
    "\n",
    "# Input data files are available in the read-only \"../input/\" directory\n",
    "# For example, running this (by clicking run or pressing Shift+Enter) will list all files under the input directory\n",
    "\n",
    "import os\n",
    "for dirname, _, filenames in os.walk('/kaggle/input'):\n",
    "    for filename in filenames:\n",
    "        print(os.path.join(dirname, filename))\n",
    "\n",
    "# You can write up to 20GB to the current directory (/kaggle/working/) that gets preserved as output when you create a version using \"Save & Run All\" \n",
    "# You can also write temporary files to /kaggle/temp/, but they won't be saved outside of the current session"
   ]
  },
  {
   "cell_type": "code",
   "execution_count": 2,
   "id": "e70cbcbb",
   "metadata": {
    "execution": {
     "iopub.execute_input": "2024-05-21T03:10:14.156323Z",
     "iopub.status.busy": "2024-05-21T03:10:14.155268Z",
     "iopub.status.idle": "2024-05-21T03:10:14.160202Z",
     "shell.execute_reply": "2024-05-21T03:10:14.159209Z"
    },
    "papermill": {
     "duration": 0.014793,
     "end_time": "2024-05-21T03:10:14.162575",
     "exception": false,
     "start_time": "2024-05-21T03:10:14.147782",
     "status": "completed"
    },
    "tags": []
   },
   "outputs": [],
   "source": [
    "import matplotlib.pyplot as plt"
   ]
  },
  {
   "cell_type": "markdown",
   "id": "a8900de2",
   "metadata": {
    "papermill": {
     "duration": 0.006169,
     "end_time": "2024-05-21T03:10:14.175242",
     "exception": false,
     "start_time": "2024-05-21T03:10:14.169073",
     "status": "completed"
    },
    "tags": []
   },
   "source": [
    "# 1. Load the dataset"
   ]
  },
  {
   "cell_type": "code",
   "execution_count": 3,
   "id": "9b93f420",
   "metadata": {
    "execution": {
     "iopub.execute_input": "2024-05-21T03:10:14.190032Z",
     "iopub.status.busy": "2024-05-21T03:10:14.189121Z",
     "iopub.status.idle": "2024-05-21T03:10:16.201440Z",
     "shell.execute_reply": "2024-05-21T03:10:16.200419Z"
    },
    "papermill": {
     "duration": 2.022222,
     "end_time": "2024-05-21T03:10:16.203865",
     "exception": false,
     "start_time": "2024-05-21T03:10:14.181643",
     "status": "completed"
    },
    "tags": []
   },
   "outputs": [
    {
     "data": {
      "text/html": [
       "<div>\n",
       "<style scoped>\n",
       "    .dataframe tbody tr th:only-of-type {\n",
       "        vertical-align: middle;\n",
       "    }\n",
       "\n",
       "    .dataframe tbody tr th {\n",
       "        vertical-align: top;\n",
       "    }\n",
       "\n",
       "    .dataframe thead th {\n",
       "        text-align: right;\n",
       "    }\n",
       "</style>\n",
       "<table border=\"1\" class=\"dataframe\">\n",
       "  <thead>\n",
       "    <tr style=\"text-align: right;\">\n",
       "      <th></th>\n",
       "      <th>id</th>\n",
       "      <th>MonsoonIntensity</th>\n",
       "      <th>TopographyDrainage</th>\n",
       "      <th>RiverManagement</th>\n",
       "      <th>Deforestation</th>\n",
       "      <th>Urbanization</th>\n",
       "      <th>ClimateChange</th>\n",
       "      <th>DamsQuality</th>\n",
       "      <th>Siltation</th>\n",
       "      <th>AgriculturalPractices</th>\n",
       "      <th>...</th>\n",
       "      <th>DrainageSystems</th>\n",
       "      <th>CoastalVulnerability</th>\n",
       "      <th>Landslides</th>\n",
       "      <th>Watersheds</th>\n",
       "      <th>DeterioratingInfrastructure</th>\n",
       "      <th>PopulationScore</th>\n",
       "      <th>WetlandLoss</th>\n",
       "      <th>InadequatePlanning</th>\n",
       "      <th>PoliticalFactors</th>\n",
       "      <th>FloodProbability</th>\n",
       "    </tr>\n",
       "  </thead>\n",
       "  <tbody>\n",
       "    <tr>\n",
       "      <th>0</th>\n",
       "      <td>0</td>\n",
       "      <td>5</td>\n",
       "      <td>8</td>\n",
       "      <td>5</td>\n",
       "      <td>8</td>\n",
       "      <td>6</td>\n",
       "      <td>4</td>\n",
       "      <td>4</td>\n",
       "      <td>3</td>\n",
       "      <td>3</td>\n",
       "      <td>...</td>\n",
       "      <td>5</td>\n",
       "      <td>3</td>\n",
       "      <td>3</td>\n",
       "      <td>5</td>\n",
       "      <td>4</td>\n",
       "      <td>7</td>\n",
       "      <td>5</td>\n",
       "      <td>7</td>\n",
       "      <td>3</td>\n",
       "      <td>0.445</td>\n",
       "    </tr>\n",
       "    <tr>\n",
       "      <th>1</th>\n",
       "      <td>1</td>\n",
       "      <td>6</td>\n",
       "      <td>7</td>\n",
       "      <td>4</td>\n",
       "      <td>4</td>\n",
       "      <td>8</td>\n",
       "      <td>8</td>\n",
       "      <td>3</td>\n",
       "      <td>5</td>\n",
       "      <td>4</td>\n",
       "      <td>...</td>\n",
       "      <td>7</td>\n",
       "      <td>2</td>\n",
       "      <td>0</td>\n",
       "      <td>3</td>\n",
       "      <td>5</td>\n",
       "      <td>3</td>\n",
       "      <td>3</td>\n",
       "      <td>4</td>\n",
       "      <td>3</td>\n",
       "      <td>0.450</td>\n",
       "    </tr>\n",
       "    <tr>\n",
       "      <th>2</th>\n",
       "      <td>2</td>\n",
       "      <td>6</td>\n",
       "      <td>5</td>\n",
       "      <td>6</td>\n",
       "      <td>7</td>\n",
       "      <td>3</td>\n",
       "      <td>7</td>\n",
       "      <td>1</td>\n",
       "      <td>5</td>\n",
       "      <td>4</td>\n",
       "      <td>...</td>\n",
       "      <td>7</td>\n",
       "      <td>3</td>\n",
       "      <td>7</td>\n",
       "      <td>5</td>\n",
       "      <td>6</td>\n",
       "      <td>8</td>\n",
       "      <td>2</td>\n",
       "      <td>3</td>\n",
       "      <td>3</td>\n",
       "      <td>0.530</td>\n",
       "    </tr>\n",
       "    <tr>\n",
       "      <th>3</th>\n",
       "      <td>3</td>\n",
       "      <td>3</td>\n",
       "      <td>4</td>\n",
       "      <td>6</td>\n",
       "      <td>5</td>\n",
       "      <td>4</td>\n",
       "      <td>8</td>\n",
       "      <td>4</td>\n",
       "      <td>7</td>\n",
       "      <td>6</td>\n",
       "      <td>...</td>\n",
       "      <td>2</td>\n",
       "      <td>4</td>\n",
       "      <td>7</td>\n",
       "      <td>4</td>\n",
       "      <td>4</td>\n",
       "      <td>6</td>\n",
       "      <td>5</td>\n",
       "      <td>7</td>\n",
       "      <td>5</td>\n",
       "      <td>0.535</td>\n",
       "    </tr>\n",
       "    <tr>\n",
       "      <th>4</th>\n",
       "      <td>4</td>\n",
       "      <td>5</td>\n",
       "      <td>3</td>\n",
       "      <td>2</td>\n",
       "      <td>6</td>\n",
       "      <td>4</td>\n",
       "      <td>4</td>\n",
       "      <td>3</td>\n",
       "      <td>3</td>\n",
       "      <td>3</td>\n",
       "      <td>...</td>\n",
       "      <td>2</td>\n",
       "      <td>2</td>\n",
       "      <td>6</td>\n",
       "      <td>6</td>\n",
       "      <td>4</td>\n",
       "      <td>1</td>\n",
       "      <td>2</td>\n",
       "      <td>3</td>\n",
       "      <td>5</td>\n",
       "      <td>0.415</td>\n",
       "    </tr>\n",
       "  </tbody>\n",
       "</table>\n",
       "<p>5 rows × 22 columns</p>\n",
       "</div>"
      ],
      "text/plain": [
       "   id  MonsoonIntensity  TopographyDrainage  RiverManagement  Deforestation  \\\n",
       "0   0                 5                   8                5              8   \n",
       "1   1                 6                   7                4              4   \n",
       "2   2                 6                   5                6              7   \n",
       "3   3                 3                   4                6              5   \n",
       "4   4                 5                   3                2              6   \n",
       "\n",
       "   Urbanization  ClimateChange  DamsQuality  Siltation  AgriculturalPractices  \\\n",
       "0             6              4            4          3                      3   \n",
       "1             8              8            3          5                      4   \n",
       "2             3              7            1          5                      4   \n",
       "3             4              8            4          7                      6   \n",
       "4             4              4            3          3                      3   \n",
       "\n",
       "   ...  DrainageSystems  CoastalVulnerability  Landslides  Watersheds  \\\n",
       "0  ...                5                     3           3           5   \n",
       "1  ...                7                     2           0           3   \n",
       "2  ...                7                     3           7           5   \n",
       "3  ...                2                     4           7           4   \n",
       "4  ...                2                     2           6           6   \n",
       "\n",
       "   DeterioratingInfrastructure  PopulationScore  WetlandLoss  \\\n",
       "0                            4                7            5   \n",
       "1                            5                3            3   \n",
       "2                            6                8            2   \n",
       "3                            4                6            5   \n",
       "4                            4                1            2   \n",
       "\n",
       "   InadequatePlanning  PoliticalFactors  FloodProbability  \n",
       "0                   7                 3             0.445  \n",
       "1                   4                 3             0.450  \n",
       "2                   3                 3             0.530  \n",
       "3                   7                 5             0.535  \n",
       "4                   3                 5             0.415  \n",
       "\n",
       "[5 rows x 22 columns]"
      ]
     },
     "execution_count": 3,
     "metadata": {},
     "output_type": "execute_result"
    }
   ],
   "source": [
    "data= pd.read_csv('/kaggle/input/playground-series-s4e5/train.csv')\n",
    "data.head()"
   ]
  },
  {
   "cell_type": "markdown",
   "id": "37f3dc73",
   "metadata": {
    "papermill": {
     "duration": 0.006457,
     "end_time": "2024-05-21T03:10:16.217623",
     "exception": false,
     "start_time": "2024-05-21T03:10:16.211166",
     "status": "completed"
    },
    "tags": []
   },
   "source": [
    "# 2. Exploratory Data Analysis"
   ]
  },
  {
   "cell_type": "code",
   "execution_count": 4,
   "id": "e31bc168",
   "metadata": {
    "execution": {
     "iopub.execute_input": "2024-05-21T03:10:16.233098Z",
     "iopub.status.busy": "2024-05-21T03:10:16.232738Z",
     "iopub.status.idle": "2024-05-21T03:10:20.688305Z",
     "shell.execute_reply": "2024-05-21T03:10:20.687152Z"
    },
    "papermill": {
     "duration": 4.466093,
     "end_time": "2024-05-21T03:10:20.690704",
     "exception": false,
     "start_time": "2024-05-21T03:10:16.224611",
     "status": "completed"
    },
    "tags": []
   },
   "outputs": [
    {
     "name": "stderr",
     "output_type": "stream",
     "text": [
      "/tmp/ipykernel_17/1442563091.py:4: UserWarning: To output multiple subplots, the figure containing the passed axes is being cleared.\n",
      "  data.hist(bins=20, ax=ax1)\n"
     ]
    },
    {
     "data": {
      "image/png": "[encoded data removed]",
      "text/plain": [
       "<Figure size 1400x1400 with 25 Axes>"
      ]
     },
     "metadata": {},
     "output_type": "display_data"
    }
   ],
   "source": [
    "plt.close()\n",
    "fig = plt.figure(figsize=(14, 14), dpi=100)\n",
    "ax1 = fig.add_subplot(111)\n",
    "data.hist(bins=20, ax=ax1)\n",
    "plt.show()"
   ]
  },
  {
   "cell_type": "markdown",
   "id": "d1f61cb3",
   "metadata": {
    "papermill": {
     "duration": 0.011967,
     "end_time": "2024-05-21T03:10:20.712667",
     "exception": false,
     "start_time": "2024-05-21T03:10:20.700700",
     "status": "completed"
    },
    "tags": []
   },
   "source": [
    "## 2. Split the data to Training and Validation Sets"
   ]
  },
  {
   "cell_type": "code",
   "execution_count": 5,
   "id": "9a2ee46a",
   "metadata": {
    "execution": {
     "iopub.execute_input": "2024-05-21T03:10:20.733488Z",
     "iopub.status.busy": "2024-05-21T03:10:20.733090Z",
     "iopub.status.idle": "2024-05-21T03:10:22.346194Z",
     "shell.execute_reply": "2024-05-21T03:10:22.345101Z"
    },
    "papermill": {
     "duration": 1.625918,
     "end_time": "2024-05-21T03:10:22.348823",
     "exception": false,
     "start_time": "2024-05-21T03:10:20.722905",
     "status": "completed"
    },
    "tags": []
   },
   "outputs": [],
   "source": [
    "from sklearn.model_selection import train_test_split\n",
    "\n",
    "X = data.drop(['id', 'FloodProbability'], axis=1)\n",
    "y = data['FloodProbability']\n",
    "\n",
    "X_train, X_valid, y_train, y_valid = train_test_split(X, y, test_size=0.2, random_state=42)"
   ]
  },
  {
   "cell_type": "markdown",
   "id": "c3da4759",
   "metadata": {
    "papermill": {
     "duration": 0.00848,
     "end_time": "2024-05-21T03:10:22.366360",
     "exception": false,
     "start_time": "2024-05-21T03:10:22.357880",
     "status": "completed"
    },
    "tags": []
   },
   "source": [
    "# 3. Standardize the Features¶\n",
    "\n",
    "We will standardize the features using the z-score $$z=\\frac{(x-\\mu)}{\\sigma}$$,\n",
    "where μ is the mean of the feature, σ is the standard deviation of this feature. We will incorporate that using `sklearn.preprocessing.StandardScaler`"
   ]
  },
  {
   "cell_type": "code",
   "execution_count": 6,
   "id": "82ffd34c",
   "metadata": {
    "execution": {
     "iopub.execute_input": "2024-05-21T03:10:22.386103Z",
     "iopub.status.busy": "2024-05-21T03:10:22.385715Z",
     "iopub.status.idle": "2024-05-21T03:10:22.776622Z",
     "shell.execute_reply": "2024-05-21T03:10:22.775644Z"
    },
    "papermill": {
     "duration": 0.403743,
     "end_time": "2024-05-21T03:10:22.779104",
     "exception": false,
     "start_time": "2024-05-21T03:10:22.375361",
     "status": "completed"
    },
    "tags": []
   },
   "outputs": [],
   "source": [
    "from sklearn.preprocessing import StandardScaler\n",
    "# Initialize the StandardScaler()\n",
    "scaler = StandardScaler()\n",
    "\n",
    "# Fit the scaler on the training data and transform it\n",
    "X_train_scaled = scaler.fit_transform(X_train)\n",
    "\n",
    "# Transform the validation data\n",
    "X_valid_scaled = scaler.fit_transform(X_valid)"
   ]
  },
  {
   "cell_type": "markdown",
   "id": "cbc76a8d",
   "metadata": {
    "papermill": {
     "duration": 0.008368,
     "end_time": "2024-05-21T03:10:22.796249",
     "exception": false,
     "start_time": "2024-05-21T03:10:22.787881",
     "status": "completed"
    },
    "tags": []
   },
   "source": [
    "# 3. Model \n",
    "We will use XGBoost to perform linear regression\n"
   ]
  },
  {
   "cell_type": "markdown",
   "id": "137ddc8e",
   "metadata": {
    "papermill": {
     "duration": 0.008403,
     "end_time": "2024-05-21T03:10:22.813253",
     "exception": false,
     "start_time": "2024-05-21T03:10:22.804850",
     "status": "completed"
    },
    "tags": []
   },
   "source": [
    "## a. Convert data to DMatrix"
   ]
  },
  {
   "cell_type": "code",
   "execution_count": 7,
   "id": "a508ad2e",
   "metadata": {
    "execution": {
     "iopub.execute_input": "2024-05-21T03:10:22.832729Z",
     "iopub.status.busy": "2024-05-21T03:10:22.831816Z",
     "iopub.status.idle": "2024-05-21T03:10:23.475260Z",
     "shell.execute_reply": "2024-05-21T03:10:23.474246Z"
    },
    "papermill": {
     "duration": 0.656208,
     "end_time": "2024-05-21T03:10:23.478095",
     "exception": false,
     "start_time": "2024-05-21T03:10:22.821887",
     "status": "completed"
    },
    "tags": []
   },
   "outputs": [],
   "source": [
    "import xgboost as xgb\n",
    "\n",
    "dtrain = xgb.DMatrix(X_train_scaled, label=y_train)\n",
    "dvalid = xgb.DMatrix(X_valid_scaled, label=y_valid)"
   ]
  },
  {
   "cell_type": "markdown",
   "id": "533dfe2f",
   "metadata": {
    "papermill": {
     "duration": 0.008678,
     "end_time": "2024-05-21T03:10:23.496065",
     "exception": false,
     "start_time": "2024-05-21T03:10:23.487387",
     "status": "completed"
    },
    "tags": []
   },
   "source": [
    "## b. Set the parameters for linear regression"
   ]
  },
  {
   "cell_type": "code",
   "execution_count": 8,
   "id": "2cc3e53b",
   "metadata": {
    "execution": {
     "iopub.execute_input": "2024-05-21T03:10:23.515212Z",
     "iopub.status.busy": "2024-05-21T03:10:23.514841Z",
     "iopub.status.idle": "2024-05-21T03:10:23.519946Z",
     "shell.execute_reply": "2024-05-21T03:10:23.518936Z"
    },
    "papermill": {
     "duration": 0.017428,
     "end_time": "2024-05-21T03:10:23.522238",
     "exception": false,
     "start_time": "2024-05-21T03:10:23.504810",
     "status": "completed"
    },
    "tags": []
   },
   "outputs": [],
   "source": [
    "params = {\n",
    "    'booster': 'gblinear', \n",
    "    'objective': 'reg:squarederror', \n",
    "    'alpha': 0.001, # L1 regularization term on weights\n",
    "    'lambda': 1.0,  # L2 regularization term on weights\n",
    "    'learning_rate': 0.01, \n",
    "    'num_boost_round': 100\n",
    "}"
   ]
  },
  {
   "cell_type": "markdown",
   "id": "e84a8dc5",
   "metadata": {
    "papermill": {
     "duration": 0.008747,
     "end_time": "2024-05-21T03:10:23.540275",
     "exception": false,
     "start_time": "2024-05-21T03:10:23.531528",
     "status": "completed"
    },
    "tags": []
   },
   "source": [
    "## c. Train the model"
   ]
  },
  {
   "cell_type": "code",
   "execution_count": 9,
   "id": "3979a9d5",
   "metadata": {
    "execution": {
     "iopub.execute_input": "2024-05-21T03:10:23.559661Z",
     "iopub.status.busy": "2024-05-21T03:10:23.559231Z",
     "iopub.status.idle": "2024-05-21T03:10:32.491357Z",
     "shell.execute_reply": "2024-05-21T03:10:32.490523Z"
    },
    "papermill": {
     "duration": 8.944777,
     "end_time": "2024-05-21T03:10:32.493857",
     "exception": false,
     "start_time": "2024-05-21T03:10:23.549080",
     "status": "completed"
    },
    "tags": []
   },
   "outputs": [
    {
     "name": "stderr",
     "output_type": "stream",
     "text": [
      "/opt/conda/lib/python3.10/site-packages/xgboost/core.py:160: UserWarning: [03:10:23] WARNING: /workspace/src/learner.cc:742: \n",
      "Parameters: { \"num_boost_round\" } are not used.\n",
      "\n",
      "  warnings.warn(smsg, UserWarning)\n"
     ]
    }
   ],
   "source": [
    "model = xgb.train(params, dtrain, num_boost_round=params['num_boost_round'])"
   ]
  },
  {
   "cell_type": "markdown",
   "id": "28eabab0",
   "metadata": {
    "papermill": {
     "duration": 0.008606,
     "end_time": "2024-05-21T03:10:32.511530",
     "exception": false,
     "start_time": "2024-05-21T03:10:32.502924",
     "status": "completed"
    },
    "tags": []
   },
   "source": [
    "# 4. Make predictions on the validation test"
   ]
  },
  {
   "cell_type": "code",
   "execution_count": 10,
   "id": "94199d09",
   "metadata": {
    "execution": {
     "iopub.execute_input": "2024-05-21T03:10:32.531165Z",
     "iopub.status.busy": "2024-05-21T03:10:32.530424Z",
     "iopub.status.idle": "2024-05-21T03:10:32.542195Z",
     "shell.execute_reply": "2024-05-21T03:10:32.541227Z"
    },
    "papermill": {
     "duration": 0.024161,
     "end_time": "2024-05-21T03:10:32.544565",
     "exception": false,
     "start_time": "2024-05-21T03:10:32.520404",
     "status": "completed"
    },
    "tags": []
   },
   "outputs": [],
   "source": [
    "y_pred_valid = model.predict(dvalid)"
   ]
  },
  {
   "cell_type": "markdown",
   "id": "9b7186f9",
   "metadata": {
    "papermill": {
     "duration": 0.008354,
     "end_time": "2024-05-21T03:10:32.562152",
     "exception": false,
     "start_time": "2024-05-21T03:10:32.553798",
     "status": "completed"
    },
    "tags": []
   },
   "source": [
    "# 5. Evaluate the model"
   ]
  },
  {
   "cell_type": "code",
   "execution_count": 11,
   "id": "25b985db",
   "metadata": {
    "execution": {
     "iopub.execute_input": "2024-05-21T03:10:32.581805Z",
     "iopub.status.busy": "2024-05-21T03:10:32.580836Z",
     "iopub.status.idle": "2024-05-21T03:10:32.591821Z",
     "shell.execute_reply": "2024-05-21T03:10:32.590625Z"
    },
    "papermill": {
     "duration": 0.023163,
     "end_time": "2024-05-21T03:10:32.593994",
     "exception": false,
     "start_time": "2024-05-21T03:10:32.570831",
     "status": "completed"
    },
    "tags": []
   },
   "outputs": [
    {
     "name": "stdout",
     "output_type": "stream",
     "text": [
      "Mean Squared Error: 0.0016822977699807488 \n",
      "R-squared: 0.352782123114883\n"
     ]
    }
   ],
   "source": [
    "from sklearn.metrics import mean_squared_error, r2_score\n",
    "\n",
    "mse = mean_squared_error(y_valid, y_pred_valid)\n",
    "r2 = r2_score(y_valid, y_pred_valid)\n",
    "\n",
    "print(f\"Mean Squared Error: {mse} \")\n",
    "print(f\"R-squared: {r2}\")"
   ]
  },
  {
   "cell_type": "markdown",
   "id": "53be3e3f",
   "metadata": {
    "papermill": {
     "duration": 0.009173,
     "end_time": "2024-05-21T03:10:32.612311",
     "exception": false,
     "start_time": "2024-05-21T03:10:32.603138",
     "status": "completed"
    },
    "tags": []
   },
   "source": [
    "# 5. Checking Assumptions"
   ]
  },
  {
   "cell_type": "markdown",
   "id": "7ce066c2",
   "metadata": {
    "papermill": {
     "duration": 0.010075,
     "end_time": "2024-05-21T03:10:32.631724",
     "exception": false,
     "start_time": "2024-05-21T03:10:32.621649",
     "status": "completed"
    },
    "tags": []
   },
   "source": [
    "## a. Linearity:\n",
    "\n",
    "   * Check that the relationship between the dependent and independent variables is linear.\n",
    "\n",
    "## b. Independence:\n",
    "\n",
    "   * Ensure observations are independent.\n",
    "\n",
    "## c. Homoscedasticity:\n",
    "\n",
    "   * Residuals (errors) should have constant variance.\n",
    "\n",
    "## d. Normality of Residuals:\n",
    "\n",
    "   * Residuals should be approximately normally distribute"
   ]
  },
  {
   "cell_type": "code",
   "execution_count": 12,
   "id": "02f1aa8f",
   "metadata": {
    "execution": {
     "iopub.execute_input": "2024-05-21T03:10:32.652229Z",
     "iopub.status.busy": "2024-05-21T03:10:32.651852Z",
     "iopub.status.idle": "2024-05-21T03:10:33.567899Z",
     "shell.execute_reply": "2024-05-21T03:10:33.566927Z"
    },
    "papermill": {
     "duration": 0.929166,
     "end_time": "2024-05-21T03:10:33.570182",
     "exception": false,
     "start_time": "2024-05-21T03:10:32.641016",
     "status": "completed"
    },
    "tags": []
   },
   "outputs": [
    {
     "data": {
      "image/png": "[encoded data removed]",
      "text/plain": [
       "<Figure size 640x480 with 1 Axes>"
      ]
     },
     "metadata": {},
     "output_type": "display_data"
    },
    {
     "data": {
      "image/png": "[encoded data removed]",
      "text/plain": [
       "<Figure size 640x480 with 1 Axes>"
      ]
     },
     "metadata": {},
     "output_type": "display_data"
    }
   ],
   "source": [
    "\n",
    "\n",
    "y_diff = y_valid - y_pred_valid\n",
    "plt.close()\n",
    "plt.hist(y_diff, bins=50, density=True)\n",
    "plt.title(\"Residuals Distributions\")\n",
    "plt.show()\n",
    "\n",
    "plt.close()\n",
    "plt.plot(y_valid, y_diff, 'bo')\n",
    "plt.show()\n",
    "\n"
   ]
  },
  {
   "cell_type": "markdown",
   "id": "328c5eb4",
   "metadata": {
    "papermill": {
     "duration": 0.009821,
     "end_time": "2024-05-21T03:10:33.589748",
     "exception": false,
     "start_time": "2024-05-21T03:10:33.579927",
     "status": "completed"
    },
    "tags": []
   },
   "source": [
    "# 6. Perform the prediction on the Testing Set"
   ]
  },
  {
   "cell_type": "code",
   "execution_count": 13,
   "id": "272b0afb",
   "metadata": {
    "execution": {
     "iopub.execute_input": "2024-05-21T03:10:33.611578Z",
     "iopub.status.busy": "2024-05-21T03:10:33.610543Z",
     "iopub.status.idle": "2024-05-21T03:10:34.902174Z",
     "shell.execute_reply": "2024-05-21T03:10:34.901068Z"
    },
    "papermill": {
     "duration": 1.304846,
     "end_time": "2024-05-21T03:10:34.904433",
     "exception": false,
     "start_time": "2024-05-21T03:10:33.599587",
     "status": "completed"
    },
    "tags": []
   },
   "outputs": [
    {
     "data": {
      "text/html": [
       "<div>\n",
       "<style scoped>\n",
       "    .dataframe tbody tr th:only-of-type {\n",
       "        vertical-align: middle;\n",
       "    }\n",
       "\n",
       "    .dataframe tbody tr th {\n",
       "        vertical-align: top;\n",
       "    }\n",
       "\n",
       "    .dataframe thead th {\n",
       "        text-align: right;\n",
       "    }\n",
       "</style>\n",
       "<table border=\"1\" class=\"dataframe\">\n",
       "  <thead>\n",
       "    <tr style=\"text-align: right;\">\n",
       "      <th></th>\n",
       "      <th>id</th>\n",
       "      <th>MonsoonIntensity</th>\n",
       "      <th>TopographyDrainage</th>\n",
       "      <th>RiverManagement</th>\n",
       "      <th>Deforestation</th>\n",
       "      <th>Urbanization</th>\n",
       "      <th>ClimateChange</th>\n",
       "      <th>DamsQuality</th>\n",
       "      <th>Siltation</th>\n",
       "      <th>AgriculturalPractices</th>\n",
       "      <th>...</th>\n",
       "      <th>IneffectiveDisasterPreparedness</th>\n",
       "      <th>DrainageSystems</th>\n",
       "      <th>CoastalVulnerability</th>\n",
       "      <th>Landslides</th>\n",
       "      <th>Watersheds</th>\n",
       "      <th>DeterioratingInfrastructure</th>\n",
       "      <th>PopulationScore</th>\n",
       "      <th>WetlandLoss</th>\n",
       "      <th>InadequatePlanning</th>\n",
       "      <th>PoliticalFactors</th>\n",
       "    </tr>\n",
       "  </thead>\n",
       "  <tbody>\n",
       "    <tr>\n",
       "      <th>0</th>\n",
       "      <td>1117957</td>\n",
       "      <td>4</td>\n",
       "      <td>6</td>\n",
       "      <td>3</td>\n",
       "      <td>5</td>\n",
       "      <td>6</td>\n",
       "      <td>7</td>\n",
       "      <td>8</td>\n",
       "      <td>7</td>\n",
       "      <td>8</td>\n",
       "      <td>...</td>\n",
       "      <td>8</td>\n",
       "      <td>5</td>\n",
       "      <td>7</td>\n",
       "      <td>5</td>\n",
       "      <td>6</td>\n",
       "      <td>3</td>\n",
       "      <td>6</td>\n",
       "      <td>4</td>\n",
       "      <td>4</td>\n",
       "      <td>5</td>\n",
       "    </tr>\n",
       "    <tr>\n",
       "      <th>1</th>\n",
       "      <td>1117958</td>\n",
       "      <td>4</td>\n",
       "      <td>4</td>\n",
       "      <td>2</td>\n",
       "      <td>9</td>\n",
       "      <td>5</td>\n",
       "      <td>5</td>\n",
       "      <td>4</td>\n",
       "      <td>7</td>\n",
       "      <td>5</td>\n",
       "      <td>...</td>\n",
       "      <td>2</td>\n",
       "      <td>4</td>\n",
       "      <td>7</td>\n",
       "      <td>4</td>\n",
       "      <td>5</td>\n",
       "      <td>1</td>\n",
       "      <td>7</td>\n",
       "      <td>4</td>\n",
       "      <td>4</td>\n",
       "      <td>3</td>\n",
       "    </tr>\n",
       "    <tr>\n",
       "      <th>2</th>\n",
       "      <td>1117959</td>\n",
       "      <td>1</td>\n",
       "      <td>3</td>\n",
       "      <td>6</td>\n",
       "      <td>5</td>\n",
       "      <td>7</td>\n",
       "      <td>2</td>\n",
       "      <td>4</td>\n",
       "      <td>6</td>\n",
       "      <td>4</td>\n",
       "      <td>...</td>\n",
       "      <td>7</td>\n",
       "      <td>9</td>\n",
       "      <td>2</td>\n",
       "      <td>5</td>\n",
       "      <td>5</td>\n",
       "      <td>2</td>\n",
       "      <td>3</td>\n",
       "      <td>6</td>\n",
       "      <td>8</td>\n",
       "      <td>3</td>\n",
       "    </tr>\n",
       "    <tr>\n",
       "      <th>3</th>\n",
       "      <td>1117960</td>\n",
       "      <td>2</td>\n",
       "      <td>4</td>\n",
       "      <td>4</td>\n",
       "      <td>6</td>\n",
       "      <td>4</td>\n",
       "      <td>5</td>\n",
       "      <td>4</td>\n",
       "      <td>3</td>\n",
       "      <td>4</td>\n",
       "      <td>...</td>\n",
       "      <td>7</td>\n",
       "      <td>8</td>\n",
       "      <td>4</td>\n",
       "      <td>6</td>\n",
       "      <td>7</td>\n",
       "      <td>6</td>\n",
       "      <td>4</td>\n",
       "      <td>2</td>\n",
       "      <td>4</td>\n",
       "      <td>4</td>\n",
       "    </tr>\n",
       "    <tr>\n",
       "      <th>4</th>\n",
       "      <td>1117961</td>\n",
       "      <td>6</td>\n",
       "      <td>3</td>\n",
       "      <td>2</td>\n",
       "      <td>4</td>\n",
       "      <td>6</td>\n",
       "      <td>4</td>\n",
       "      <td>5</td>\n",
       "      <td>5</td>\n",
       "      <td>3</td>\n",
       "      <td>...</td>\n",
       "      <td>4</td>\n",
       "      <td>3</td>\n",
       "      <td>2</td>\n",
       "      <td>6</td>\n",
       "      <td>4</td>\n",
       "      <td>6</td>\n",
       "      <td>8</td>\n",
       "      <td>4</td>\n",
       "      <td>5</td>\n",
       "      <td>5</td>\n",
       "    </tr>\n",
       "  </tbody>\n",
       "</table>\n",
       "<p>5 rows × 21 columns</p>\n",
       "</div>"
      ],
      "text/plain": [
       "        id  MonsoonIntensity  TopographyDrainage  RiverManagement  \\\n",
       "0  1117957                 4                   6                3   \n",
       "1  1117958                 4                   4                2   \n",
       "2  1117959                 1                   3                6   \n",
       "3  1117960                 2                   4                4   \n",
       "4  1117961                 6                   3                2   \n",
       "\n",
       "   Deforestation  Urbanization  ClimateChange  DamsQuality  Siltation  \\\n",
       "0              5             6              7            8          7   \n",
       "1              9             5              5            4          7   \n",
       "2              5             7              2            4          6   \n",
       "3              6             4              5            4          3   \n",
       "4              4             6              4            5          5   \n",
       "\n",
       "   AgriculturalPractices  ...  IneffectiveDisasterPreparedness  \\\n",
       "0                      8  ...                                8   \n",
       "1                      5  ...                                2   \n",
       "2                      4  ...                                7   \n",
       "3                      4  ...                                7   \n",
       "4                      3  ...                                4   \n",
       "\n",
       "   DrainageSystems  CoastalVulnerability  Landslides  Watersheds  \\\n",
       "0                5                     7           5           6   \n",
       "1                4                     7           4           5   \n",
       "2                9                     2           5           5   \n",
       "3                8                     4           6           7   \n",
       "4                3                     2           6           4   \n",
       "\n",
       "   DeterioratingInfrastructure  PopulationScore  WetlandLoss  \\\n",
       "0                            3                6            4   \n",
       "1                            1                7            4   \n",
       "2                            2                3            6   \n",
       "3                            6                4            2   \n",
       "4                            6                8            4   \n",
       "\n",
       "   InadequatePlanning  PoliticalFactors  \n",
       "0                   4                 5  \n",
       "1                   4                 3  \n",
       "2                   8                 3  \n",
       "3                   4                 4  \n",
       "4                   5                 5  \n",
       "\n",
       "[5 rows x 21 columns]"
      ]
     },
     "execution_count": 13,
     "metadata": {},
     "output_type": "execute_result"
    }
   ],
   "source": [
    "test = pd.read_csv('/kaggle/input/playground-series-s4e5/test.csv')\n",
    "test.head()"
   ]
  },
  {
   "cell_type": "code",
   "execution_count": 14,
   "id": "6166c9a7",
   "metadata": {
    "execution": {
     "iopub.execute_input": "2024-05-21T03:10:34.927314Z",
     "iopub.status.busy": "2024-05-21T03:10:34.926400Z",
     "iopub.status.idle": "2024-05-21T03:10:35.537057Z",
     "shell.execute_reply": "2024-05-21T03:10:35.535889Z"
    },
    "papermill": {
     "duration": 0.624368,
     "end_time": "2024-05-21T03:10:35.539379",
     "exception": false,
     "start_time": "2024-05-21T03:10:34.915011",
     "status": "completed"
    },
    "tags": []
   },
   "outputs": [
    {
     "data": {
      "text/plain": [
       "(array([0.5206597 , 0.49258927, 0.49242726, ..., 0.5331519 , 0.5152055 ,\n",
       "        0.5059601 ], dtype=float32),\n",
       " 745305)"
      ]
     },
     "execution_count": 14,
     "metadata": {},
     "output_type": "execute_result"
    }
   ],
   "source": [
    "\n",
    "\n",
    "X_test = test.drop('id', axis=1)\n",
    "X_test_scaled = scaler.fit_transform(X_test)\n",
    "dtest = xgb.DMatrix(X_test_scaled)\n",
    "y_test_pred =model.predict(dtest)\n",
    "y_test_pred, len(y_test_pred)\n",
    "\n"
   ]
  },
  {
   "cell_type": "code",
   "execution_count": 15,
   "id": "6e1e102d",
   "metadata": {
    "execution": {
     "iopub.execute_input": "2024-05-21T03:10:35.562133Z",
     "iopub.status.busy": "2024-05-21T03:10:35.561741Z",
     "iopub.status.idle": "2024-05-21T03:10:36.739895Z",
     "shell.execute_reply": "2024-05-21T03:10:36.738812Z"
    },
    "papermill": {
     "duration": 1.192781,
     "end_time": "2024-05-21T03:10:36.742494",
     "exception": false,
     "start_time": "2024-05-21T03:10:35.549713",
     "status": "completed"
    },
    "tags": []
   },
   "outputs": [],
   "source": [
    "\n",
    "\n",
    "test_ids = np.asarray(test['id'])\n",
    "\n",
    "df_submission = pd.DataFrame({\n",
    "    'id': test_ids, \n",
    "    'FloodProbability': y_test_pred})\n",
    "\n",
    "df_submission.to_csv('submission.csv', index=False)\n",
    "\n"
   ]
  },
  {
   "cell_type": "code",
   "execution_count": 16,
   "id": "016c32ff",
   "metadata": {
    "execution": {
     "iopub.execute_input": "2024-05-21T03:10:36.764750Z",
     "iopub.status.busy": "2024-05-21T03:10:36.764333Z",
     "iopub.status.idle": "2024-05-21T03:10:36.955771Z",
     "shell.execute_reply": "2024-05-21T03:10:36.954662Z"
    },
    "papermill": {
     "duration": 0.205578,
     "end_time": "2024-05-21T03:10:36.958387",
     "exception": false,
     "start_time": "2024-05-21T03:10:36.752809",
     "status": "completed"
    },
    "tags": []
   },
   "outputs": [
    {
     "data": {
      "text/html": [
       "<div>\n",
       "<style scoped>\n",
       "    .dataframe tbody tr th:only-of-type {\n",
       "        vertical-align: middle;\n",
       "    }\n",
       "\n",
       "    .dataframe tbody tr th {\n",
       "        vertical-align: top;\n",
       "    }\n",
       "\n",
       "    .dataframe thead th {\n",
       "        text-align: right;\n",
       "    }\n",
       "</style>\n",
       "<table border=\"1\" class=\"dataframe\">\n",
       "  <thead>\n",
       "    <tr style=\"text-align: right;\">\n",
       "      <th></th>\n",
       "      <th>id</th>\n",
       "      <th>FloodProbability</th>\n",
       "    </tr>\n",
       "  </thead>\n",
       "  <tbody>\n",
       "    <tr>\n",
       "      <th>0</th>\n",
       "      <td>1117957</td>\n",
       "      <td>0.520660</td>\n",
       "    </tr>\n",
       "    <tr>\n",
       "      <th>1</th>\n",
       "      <td>1117958</td>\n",
       "      <td>0.492589</td>\n",
       "    </tr>\n",
       "    <tr>\n",
       "      <th>2</th>\n",
       "      <td>1117959</td>\n",
       "      <td>0.492427</td>\n",
       "    </tr>\n",
       "    <tr>\n",
       "      <th>3</th>\n",
       "      <td>1117960</td>\n",
       "      <td>0.495216</td>\n",
       "    </tr>\n",
       "    <tr>\n",
       "      <th>4</th>\n",
       "      <td>1117961</td>\n",
       "      <td>0.495564</td>\n",
       "    </tr>\n",
       "    <tr>\n",
       "      <th>...</th>\n",
       "      <td>...</td>\n",
       "      <td>...</td>\n",
       "    </tr>\n",
       "    <tr>\n",
       "      <th>745300</th>\n",
       "      <td>1863257</td>\n",
       "      <td>0.498188</td>\n",
       "    </tr>\n",
       "    <tr>\n",
       "      <th>745301</th>\n",
       "      <td>1863258</td>\n",
       "      <td>0.491292</td>\n",
       "    </tr>\n",
       "    <tr>\n",
       "      <th>745302</th>\n",
       "      <td>1863259</td>\n",
       "      <td>0.533152</td>\n",
       "    </tr>\n",
       "    <tr>\n",
       "      <th>745303</th>\n",
       "      <td>1863260</td>\n",
       "      <td>0.515205</td>\n",
       "    </tr>\n",
       "    <tr>\n",
       "      <th>745304</th>\n",
       "      <td>1863261</td>\n",
       "      <td>0.505960</td>\n",
       "    </tr>\n",
       "  </tbody>\n",
       "</table>\n",
       "<p>745305 rows × 2 columns</p>\n",
       "</div>"
      ],
      "text/plain": [
       "             id  FloodProbability\n",
       "0       1117957          0.520660\n",
       "1       1117958          0.492589\n",
       "2       1117959          0.492427\n",
       "3       1117960          0.495216\n",
       "4       1117961          0.495564\n",
       "...         ...               ...\n",
       "745300  1863257          0.498188\n",
       "745301  1863258          0.491292\n",
       "745302  1863259          0.533152\n",
       "745303  1863260          0.515205\n",
       "745304  1863261          0.505960\n",
       "\n",
       "[745305 rows x 2 columns]"
      ]
     },
     "execution_count": 16,
     "metadata": {},
     "output_type": "execute_result"
    }
   ],
   "source": [
    "\n",
    "\n",
    "pd.read_csv('submission.csv')#.\n",
    "\n"
   ]
  },
  {
   "cell_type": "code",
   "execution_count": null,
   "id": "8b5ef6eb",
   "metadata": {
    "papermill": {
     "duration": 0.010525,
     "end_time": "2024-05-21T03:10:36.979555",
     "exception": false,
     "start_time": "2024-05-21T03:10:36.969030",
     "status": "completed"
    },
    "tags": []
   },
   "outputs": [],
   "source": []
  }
 ],
 "metadata": {
  "kaggle": {
   "accelerator": "none",
   "dataSources": [
    {
     "databundleVersionId": 8121328,
     "sourceId": 73278,
     "sourceType": "competition"
    }
   ],
   "dockerImageVersionId": 30698,
   "isGpuEnabled": false,
   "isInternetEnabled": false,
   "language": "python",
   "sourceType": "notebook"
  },
  "kernelspec": {
   "display_name": "Python 3",
   "language": "python",
   "name": "python3"
  },
  "language_info": {
   "codemirror_mode": {
    "name": "ipython",
    "version": 3
   },
   "file_extension": ".py",
   "mimetype": "text/x-python",
   "name": "python",
   "nbconvert_exporter": "python",
   "pygments_lexer": "ipython3",
   "version": "3.10.13"
  },
  "papermill": {
   "default_parameters": {},
   "duration": 27.125443,
   "end_time": "2024-05-21T03:10:37.711997",
   "environment_variables": {},
   "exception": null,
   "input_path": "__notebook__.ipynb",
   "output_path": "__notebook__.ipynb",
   "parameters": {},
   "start_time": "2024-05-21T03:10:10.586554",
   "version": "2.5.0"
  }
 },
 "nbformat": 4,
 "nbformat_minor": 5
}
